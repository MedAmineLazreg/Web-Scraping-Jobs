{
 "cells": [
  {
   "cell_type": "code",
   "execution_count": 3,
   "metadata": {},
   "outputs": [],
   "source": [
    "#!pip install python-docx"
   ]
  },
  {
   "cell_type": "code",
   "execution_count": 4,
   "metadata": {},
   "outputs": [],
   "source": [
    "import pandas as pd\n",
    "df=pd.read_csv('Indeed.csv')"
   ]
  },
  {
   "cell_type": "code",
   "execution_count": 7,
   "metadata": {},
   "outputs": [],
   "source": [
    "from docx import Document\n",
    "from docx.shared import Inches\n",
    "\n",
    "for i in range (df.shape[0]):\n",
    "    \n",
    "    document = Document()\n",
    "    document.add_heading(\"Emploi : \"+df['Titre'][i])\n",
    "    document.add_heading(\"Localisation : \"+df['Localisation'][i])\n",
    "    document.add_heading(\"Nom de l'entreprise : \"+df['Entreprise'][i])\n",
    "    document.add_heading(\"Salaire : \"+df['Salaire'][i])\n",
    "    document.add_heading(\"Description : \")\n",
    "    document.add_paragraph(df['Description'][i])\n",
    "    document.save(r'WordFiles/fichier(%d).docx' % i)"
   ]
  }
 ],
 "metadata": {
  "kernelspec": {
   "display_name": "Python 3",
   "language": "python",
   "name": "python3"
  },
  "language_info": {
   "codemirror_mode": {
    "name": "ipython",
    "version": 3
   },
   "file_extension": ".py",
   "mimetype": "text/x-python",
   "name": "python",
   "nbconvert_exporter": "python",
   "pygments_lexer": "ipython3",
   "version": "3.7.3"
  }
 },
 "nbformat": 4,
 "nbformat_minor": 4
}
